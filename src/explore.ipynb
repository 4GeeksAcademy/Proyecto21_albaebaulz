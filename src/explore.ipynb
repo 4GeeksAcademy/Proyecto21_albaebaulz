{
    "cells": [
        {
            "cell_type": "markdown",
            "metadata": {},
            "source": [
                "# Explore here"
            ]
        },
        {
            "cell_type": "markdown",
            "metadata": {},
            "source": [
                "K Vecinos Más Cercanos\n",
                "      \n",
                "      Objetivo: Predecir qué películas podrían ser un éxito comercial."
            ]
        },
        {
            "cell_type": "code",
            "execution_count": 1,
            "metadata": {},
            "outputs": [
                {
                    "name": "stdout",
                    "output_type": "stream",
                    "text": [
                        "Defaulting to user installation because normal site-packages is not writeable\n",
                        "Requirement already satisfied: missingno in /home/vscode/.local/lib/python3.10/site-packages (0.5.2)\n",
                        "Requirement already satisfied: lazypredict in /home/vscode/.local/lib/python3.10/site-packages (0.2.12)\n",
                        "Requirement already satisfied: scipy in /home/vscode/.local/lib/python3.10/site-packages (from missingno) (1.14.1)\n",
                        "Requirement already satisfied: matplotlib in /home/vscode/.local/lib/python3.10/site-packages (from missingno) (3.9.2)\n",
                        "Requirement already satisfied: numpy in /home/vscode/.local/lib/python3.10/site-packages (from missingno) (2.1.1)\n",
                        "Requirement already satisfied: seaborn in /home/vscode/.local/lib/python3.10/site-packages (from missingno) (0.13.2)\n",
                        "Requirement already satisfied: scikit-learn in /home/vscode/.local/lib/python3.10/site-packages (from lazypredict) (1.5.1)\n",
                        "Requirement already satisfied: lightgbm in /home/vscode/.local/lib/python3.10/site-packages (from lazypredict) (4.5.0)\n",
                        "Requirement already satisfied: click in /home/vscode/.local/lib/python3.10/site-packages (from lazypredict) (8.1.7)\n",
                        "Requirement already satisfied: tqdm in /home/vscode/.local/lib/python3.10/site-packages (from lazypredict) (4.66.5)\n",
                        "Requirement already satisfied: pandas in /home/vscode/.local/lib/python3.10/site-packages (from lazypredict) (2.2.2)\n",
                        "Requirement already satisfied: xgboost in /home/vscode/.local/lib/python3.10/site-packages (from lazypredict) (2.1.1)\n",
                        "Requirement already satisfied: joblib in /home/vscode/.local/lib/python3.10/site-packages (from lazypredict) (1.4.2)\n",
                        "Requirement already satisfied: cycler>=0.10 in /home/vscode/.local/lib/python3.10/site-packages (from matplotlib->missingno) (0.12.1)\n",
                        "Requirement already satisfied: pillow>=8 in /home/vscode/.local/lib/python3.10/site-packages (from matplotlib->missingno) (10.4.0)\n",
                        "Requirement already satisfied: python-dateutil>=2.7 in /home/vscode/.local/lib/python3.10/site-packages (from matplotlib->missingno) (2.9.0.post0)\n",
                        "Requirement already satisfied: contourpy>=1.0.1 in /home/vscode/.local/lib/python3.10/site-packages (from matplotlib->missingno) (1.3.0)\n",
                        "Requirement already satisfied: kiwisolver>=1.3.1 in /home/vscode/.local/lib/python3.10/site-packages (from matplotlib->missingno) (1.4.7)\n",
                        "Requirement already satisfied: fonttools>=4.22.0 in /home/vscode/.local/lib/python3.10/site-packages (from matplotlib->missingno) (4.53.1)\n",
                        "Requirement already satisfied: pyparsing>=2.3.1 in /home/vscode/.local/lib/python3.10/site-packages (from matplotlib->missingno) (3.1.4)\n",
                        "Requirement already satisfied: packaging>=20.0 in /home/vscode/.local/lib/python3.10/site-packages (from matplotlib->missingno) (24.1)\n",
                        "Requirement already satisfied: tzdata>=2022.7 in /home/vscode/.local/lib/python3.10/site-packages (from pandas->lazypredict) (2024.1)\n",
                        "Requirement already satisfied: pytz>=2020.1 in /home/vscode/.local/lib/python3.10/site-packages (from pandas->lazypredict) (2024.1)\n",
                        "Requirement already satisfied: threadpoolctl>=3.1.0 in /home/vscode/.local/lib/python3.10/site-packages (from scikit-learn->lazypredict) (3.5.0)\n",
                        "Requirement already satisfied: nvidia-nccl-cu12 in /home/vscode/.local/lib/python3.10/site-packages (from xgboost->lazypredict) (2.22.3)\n",
                        "Requirement already satisfied: six>=1.5 in /home/vscode/.local/lib/python3.10/site-packages (from python-dateutil>=2.7->matplotlib->missingno) (1.16.0)\n",
                        "\n",
                        "\u001b[1m[\u001b[0m\u001b[34;49mnotice\u001b[0m\u001b[1;39;49m]\u001b[0m\u001b[39;49m A new release of pip is available: \u001b[0m\u001b[31;49m23.0.1\u001b[0m\u001b[39;49m -> \u001b[0m\u001b[32;49m24.2\u001b[0m\n",
                        "\u001b[1m[\u001b[0m\u001b[34;49mnotice\u001b[0m\u001b[1;39;49m]\u001b[0m\u001b[39;49m To update, run: \u001b[0m\u001b[32;49mpip install --upgrade pip\u001b[0m\n",
                        "Defaulting to user installation because normal site-packages is not writeable\n",
                        "Requirement already satisfied: pandas in /home/vscode/.local/lib/python3.10/site-packages (2.2.2)\n",
                        "\u001b[31mERROR: Could not find a version that satisfies the requirement sqlite3 (from versions: none)\u001b[0m\u001b[31m\n",
                        "\u001b[0m\u001b[31mERROR: No matching distribution found for sqlite3\u001b[0m\u001b[31m\n",
                        "\u001b[0m\n",
                        "\u001b[1m[\u001b[0m\u001b[34;49mnotice\u001b[0m\u001b[1;39;49m]\u001b[0m\u001b[39;49m A new release of pip is available: \u001b[0m\u001b[31;49m23.0.1\u001b[0m\u001b[39;49m -> \u001b[0m\u001b[32;49m24.2\u001b[0m\n",
                        "\u001b[1m[\u001b[0m\u001b[34;49mnotice\u001b[0m\u001b[1;39;49m]\u001b[0m\u001b[39;49m To update, run: \u001b[0m\u001b[32;49mpip install --upgrade pip\u001b[0m\n"
                    ]
                }
            ],
            "source": [
                "!pip install missingno lazypredict\n",
                "!pip install pandas sqlite3\n"
            ]
        },
        {
            "cell_type": "code",
            "execution_count": 26,
            "metadata": {},
            "outputs": [],
            "source": [
                "import pandas as pd\n",
                "import numpy as np\n",
                "import sqlite3\n",
                "import json\n",
                "from sklearn.feature_extraction.text import TfidfVectorizer\n",
                "from sklearn.metrics.pairwise import cosine_similarity"
            ]
        },
        {
            "cell_type": "markdown",
            "metadata": {},
            "source": [
                "1. Cargar el conjunto de datos."
            ]
        },
        {
            "cell_type": "code",
            "execution_count": 3,
            "metadata": {},
            "outputs": [
                {
                    "name": "stdout",
                    "output_type": "stream",
                    "text": [
                        "<class 'pandas.core.frame.DataFrame'>\n",
                        "RangeIndex: 4803 entries, 0 to 4802\n",
                        "Data columns (total 20 columns):\n",
                        " #   Column                Non-Null Count  Dtype  \n",
                        "---  ------                --------------  -----  \n",
                        " 0   budget                4803 non-null   int64  \n",
                        " 1   genres                4803 non-null   object \n",
                        " 2   homepage              1712 non-null   object \n",
                        " 3   id                    4803 non-null   int64  \n",
                        " 4   keywords              4803 non-null   object \n",
                        " 5   original_language     4803 non-null   object \n",
                        " 6   original_title        4803 non-null   object \n",
                        " 7   overview              4800 non-null   object \n",
                        " 8   popularity            4803 non-null   float64\n",
                        " 9   production_companies  4803 non-null   object \n",
                        " 10  production_countries  4803 non-null   object \n",
                        " 11  release_date          4802 non-null   object \n",
                        " 12  revenue               4803 non-null   int64  \n",
                        " 13  runtime               4801 non-null   float64\n",
                        " 14  spoken_languages      4803 non-null   object \n",
                        " 15  status                4803 non-null   object \n",
                        " 16  tagline               3959 non-null   object \n",
                        " 17  title                 4803 non-null   object \n",
                        " 18  vote_average          4803 non-null   float64\n",
                        " 19  vote_count            4803 non-null   int64  \n",
                        "dtypes: float64(3), int64(4), object(13)\n",
                        "memory usage: 750.6+ KB\n"
                    ]
                }
            ],
            "source": [
                "# Descargo los datos base datos \"movies\":\n",
                "\n",
                "# Leo los datos de la URL.\n",
                "url = \"https://raw.githubusercontent.com/4GeeksAcademy/k-nearest-neighbors-project-tutorial/main/tmdb_5000_movies.csv\"\n",
                "\n",
                "# Guardo los datos en un DataFrame. La BD tiene 4803 filas y 20 columnas.\n",
                "df_movies = pd.read_csv(url)\n",
                "\n",
                "# Miro las variables de la bd.\n",
                "df_movies.info()"
            ]
        },
        {
            "cell_type": "code",
            "execution_count": 4,
            "metadata": {},
            "outputs": [
                {
                    "name": "stdout",
                    "output_type": "stream",
                    "text": [
                        "<class 'pandas.core.frame.DataFrame'>\n",
                        "RangeIndex: 4803 entries, 0 to 4802\n",
                        "Data columns (total 4 columns):\n",
                        " #   Column    Non-Null Count  Dtype \n",
                        "---  ------    --------------  ----- \n",
                        " 0   movie_id  4803 non-null   int64 \n",
                        " 1   title     4803 non-null   object\n",
                        " 2   cast      4803 non-null   object\n",
                        " 3   crew      4803 non-null   object\n",
                        "dtypes: int64(1), object(3)\n",
                        "memory usage: 150.2+ KB\n"
                    ]
                }
            ],
            "source": [
                "# Descargo los datos base datos \"credits\":\n",
                "\n",
                "# Leo los datos de la URL.\n",
                "url = \"https://raw.githubusercontent.com/4GeeksAcademy/k-nearest-neighbors-project-tutorial/main/tmdb_5000_credits.csv\"\n",
                "\n",
                "# Guardo los datos en un DataFrame. La bd contiene 4803 filas y 4 columnas.\n",
                "df_credits = pd.read_csv(url)\n",
                "\n",
                "# Miro las variables de la bd.\n",
                "df_credits.info()"
            ]
        },
        {
            "cell_type": "markdown",
            "metadata": {},
            "source": [
                "2. Creación de una base de datos."
            ]
        },
        {
            "cell_type": "code",
            "execution_count": 5,
            "metadata": {},
            "outputs": [
                {
                    "name": "stdout",
                    "output_type": "stream",
                    "text": [
                        "[('movies',), ('credits',)]\n"
                    ]
                }
            ],
            "source": [
                "# Creo una bd e inserto df_movies y df_credits como tablas.\n",
                "\n",
                "# Creo una conexión a la base de datos SQLite\n",
                "conn = sqlite3.connect('bd_moviesycredits.db')\n",
                "\n",
                "# Guardo los df en la base de datos como tablas\n",
                "df_movies.to_sql('movies', conn, if_exists='replace', index=False)\n",
                "df_credits.to_sql('credits', conn, if_exists='replace', index=False)\n",
                "\n",
                "# Verifico que las tablas se han guardado correctamente\n",
                "cursor = conn.cursor()\n",
                "cursor.execute(\"SELECT name FROM sqlite_master WHERE type='table';\")\n",
                "print(cursor.fetchall())"
            ]
        },
        {
            "cell_type": "code",
            "execution_count": 6,
            "metadata": {},
            "outputs": [
                {
                    "name": "stdout",
                    "output_type": "stream",
                    "text": [
                        "      budget                                             genres  \\\n",
                        "0  237000000  [{\"id\": 28, \"name\": \"Action\"}, {\"id\": 12, \"nam...   \n",
                        "1  300000000  [{\"id\": 12, \"name\": \"Adventure\"}, {\"id\": 14, \"...   \n",
                        "2  245000000  [{\"id\": 28, \"name\": \"Action\"}, {\"id\": 12, \"nam...   \n",
                        "3  250000000  [{\"id\": 28, \"name\": \"Action\"}, {\"id\": 80, \"nam...   \n",
                        "4  260000000  [{\"id\": 28, \"name\": \"Action\"}, {\"id\": 12, \"nam...   \n",
                        "\n",
                        "                                       homepage      id  \\\n",
                        "0                   http://www.avatarmovie.com/   19995   \n",
                        "1  http://disney.go.com/disneypictures/pirates/     285   \n",
                        "2   http://www.sonypictures.com/movies/spectre/  206647   \n",
                        "3            http://www.thedarkknightrises.com/   49026   \n",
                        "4          http://movies.disney.com/john-carter   49529   \n",
                        "\n",
                        "                                            keywords original_language  \\\n",
                        "0  [{\"id\": 1463, \"name\": \"culture clash\"}, {\"id\":...                en   \n",
                        "1  [{\"id\": 270, \"name\": \"ocean\"}, {\"id\": 726, \"na...                en   \n",
                        "2  [{\"id\": 470, \"name\": \"spy\"}, {\"id\": 818, \"name...                en   \n",
                        "3  [{\"id\": 849, \"name\": \"dc comics\"}, {\"id\": 853,...                en   \n",
                        "4  [{\"id\": 818, \"name\": \"based on novel\"}, {\"id\":...                en   \n",
                        "\n",
                        "                             original_title  \\\n",
                        "0                                    Avatar   \n",
                        "1  Pirates of the Caribbean: At World's End   \n",
                        "2                                   Spectre   \n",
                        "3                     The Dark Knight Rises   \n",
                        "4                               John Carter   \n",
                        "\n",
                        "                                            overview  popularity  \\\n",
                        "0  In the 22nd century, a paraplegic Marine is di...  150.437577   \n",
                        "1  Captain Barbossa, long believed to be dead, ha...  139.082615   \n",
                        "2  A cryptic message from Bond’s past sends him o...  107.376788   \n",
                        "3  Following the death of District Attorney Harve...  112.312950   \n",
                        "4  John Carter is a war-weary, former military ca...   43.926995   \n",
                        "\n",
                        "                                production_companies  ... runtime  \\\n",
                        "0  [{\"name\": \"Ingenious Film Partners\", \"id\": 289...  ...   162.0   \n",
                        "1  [{\"name\": \"Walt Disney Pictures\", \"id\": 2}, {\"...  ...   169.0   \n",
                        "2  [{\"name\": \"Columbia Pictures\", \"id\": 5}, {\"nam...  ...   148.0   \n",
                        "3  [{\"name\": \"Legendary Pictures\", \"id\": 923}, {\"...  ...   165.0   \n",
                        "4        [{\"name\": \"Walt Disney Pictures\", \"id\": 2}]  ...   132.0   \n",
                        "\n",
                        "                                    spoken_languages    status  \\\n",
                        "0  [{\"iso_639_1\": \"en\", \"name\": \"English\"}, {\"iso...  Released   \n",
                        "1           [{\"iso_639_1\": \"en\", \"name\": \"English\"}]  Released   \n",
                        "2  [{\"iso_639_1\": \"fr\", \"name\": \"Fran\\u00e7ais\"},...  Released   \n",
                        "3           [{\"iso_639_1\": \"en\", \"name\": \"English\"}]  Released   \n",
                        "4           [{\"iso_639_1\": \"en\", \"name\": \"English\"}]  Released   \n",
                        "\n",
                        "                                          tagline  \\\n",
                        "0                     Enter the World of Pandora.   \n",
                        "1  At the end of the world, the adventure begins.   \n",
                        "2                           A Plan No One Escapes   \n",
                        "3                                 The Legend Ends   \n",
                        "4            Lost in our world, found in another.   \n",
                        "\n",
                        "                                      title vote_average vote_count  \\\n",
                        "0                                    Avatar          7.2      11800   \n",
                        "1  Pirates of the Caribbean: At World's End          6.9       4500   \n",
                        "2                                   Spectre          6.3       4466   \n",
                        "3                     The Dark Knight Rises          7.6       9106   \n",
                        "4                               John Carter          6.1       2124   \n",
                        "\n",
                        "                                                cast  \\\n",
                        "0  [{\"cast_id\": 242, \"character\": \"Jake Sully\", \"...   \n",
                        "1  [{\"cast_id\": 4, \"character\": \"Captain Jack Spa...   \n",
                        "2  [{\"cast_id\": 1, \"character\": \"James Bond\", \"cr...   \n",
                        "3  [{\"cast_id\": 2, \"character\": \"Bruce Wayne / Ba...   \n",
                        "4  [{\"cast_id\": 5, \"character\": \"John Carter\", \"c...   \n",
                        "\n",
                        "                                                crew  movie_id  \n",
                        "0  [{\"credit_id\": \"52fe48009251416c750aca23\", \"de...     19995  \n",
                        "1  [{\"credit_id\": \"52fe4232c3a36847f800b579\", \"de...       285  \n",
                        "2  [{\"credit_id\": \"54805967c3a36829b5002c41\", \"de...    206647  \n",
                        "3  [{\"credit_id\": \"52fe4781c3a36847f81398c3\", \"de...     49026  \n",
                        "4  [{\"credit_id\": \"52fe479ac3a36847f813eaa3\", \"de...     49529  \n",
                        "\n",
                        "[5 rows x 23 columns]\n",
                        "<class 'pandas.core.frame.DataFrame'>\n",
                        "RangeIndex: 4809 entries, 0 to 4808\n",
                        "Data columns (total 23 columns):\n",
                        " #   Column                Non-Null Count  Dtype  \n",
                        "---  ------                --------------  -----  \n",
                        " 0   budget                4809 non-null   int64  \n",
                        " 1   genres                4809 non-null   object \n",
                        " 2   homepage              1713 non-null   object \n",
                        " 3   id                    4809 non-null   int64  \n",
                        " 4   keywords              4809 non-null   object \n",
                        " 5   original_language     4809 non-null   object \n",
                        " 6   original_title        4809 non-null   object \n",
                        " 7   overview              4806 non-null   object \n",
                        " 8   popularity            4809 non-null   float64\n",
                        " 9   production_companies  4809 non-null   object \n",
                        " 10  production_countries  4809 non-null   object \n",
                        " 11  release_date          4808 non-null   object \n",
                        " 12  revenue               4809 non-null   int64  \n",
                        " 13  runtime               4807 non-null   float64\n",
                        " 14  spoken_languages      4809 non-null   object \n",
                        " 15  status                4809 non-null   object \n",
                        " 16  tagline               3965 non-null   object \n",
                        " 17  title                 4809 non-null   object \n",
                        " 18  vote_average          4809 non-null   float64\n",
                        " 19  vote_count            4809 non-null   int64  \n",
                        " 20  cast                  4809 non-null   object \n",
                        " 21  crew                  4809 non-null   object \n",
                        " 22  movie_id              4809 non-null   int64  \n",
                        "dtypes: float64(3), int64(5), object(15)\n",
                        "memory usage: 864.2+ KB\n"
                    ]
                }
            ],
            "source": [
                "# Uno las tablas en SQL\n",
                "query = '''\n",
                "SELECT m.*, c.cast, c.crew, c.movie_id \n",
                "FROM movies m\n",
                "JOIN credits c\n",
                "ON m.title = c.title;\n",
                "'''\n",
                "\n",
                "# Ejecuto la consulta y guardo el resultado en un DataFrame (df_mc)\n",
                "df_mc = pd.read_sql(query, conn)\n",
                "\n",
                "# Muestro las primeras filas de la tabla unificada\n",
                "print(df_mc.head())\n",
                "\n",
                "df_mc.info()"
            ]
        },
        {
            "cell_type": "code",
            "execution_count": 7,
            "metadata": {},
            "outputs": [
                {
                    "name": "stdout",
                    "output_type": "stream",
                    "text": [
                        "<class 'pandas.core.frame.DataFrame'>\n",
                        "RangeIndex: 4809 entries, 0 to 4808\n",
                        "Data columns (total 7 columns):\n",
                        " #   Column    Non-Null Count  Dtype \n",
                        "---  ------    --------------  ----- \n",
                        " 0   movie_id  4809 non-null   int64 \n",
                        " 1   title     4809 non-null   object\n",
                        " 2   overview  4806 non-null   object\n",
                        " 3   genres    4809 non-null   object\n",
                        " 4   keywords  4809 non-null   object\n",
                        " 5   cast      4809 non-null   object\n",
                        " 6   crew      4809 non-null   object\n",
                        "dtypes: int64(1), object(6)\n",
                        "memory usage: 263.1+ KB\n"
                    ]
                }
            ],
            "source": [
                "# Limpio el df_mv y me quedo con \"movie_id\", \"title\", \"overview\", \"genres\", \"keywords\", \"cast\", \"crew\".\n",
                "\n",
                "df_mc= df_mc[['movie_id', 'title', 'overview', 'genres', 'keywords', 'cast', 'crew']]\n",
                "\n",
                "df_mc.info()"
            ]
        },
        {
            "cell_type": "markdown",
            "metadata": {},
            "source": [
                "3. Transformar los datos."
            ]
        },
        {
            "cell_type": "code",
            "execution_count": 8,
            "metadata": {},
            "outputs": [
                {
                    "name": "stdout",
                    "output_type": "stream",
                    "text": [
                        "      movie_id                                     title  \\\n",
                        "0        19995                                    Avatar   \n",
                        "1          285  Pirates of the Caribbean: At World's End   \n",
                        "2       206647                                   Spectre   \n",
                        "3        49026                     The Dark Knight Rises   \n",
                        "4        49529                               John Carter   \n",
                        "...        ...                                       ...   \n",
                        "4804      9367                               El Mariachi   \n",
                        "4805     72766                                 Newlyweds   \n",
                        "4806    231617                 Signed, Sealed, Delivered   \n",
                        "4807    126186                          Shanghai Calling   \n",
                        "4808     25975                         My Date with Drew   \n",
                        "\n",
                        "                                               overview  \\\n",
                        "0     In the 22nd century, a paraplegic Marine is di...   \n",
                        "1     Captain Barbossa, long believed to be dead, ha...   \n",
                        "2     A cryptic message from Bond’s past sends him o...   \n",
                        "3     Following the death of District Attorney Harve...   \n",
                        "4     John Carter is a war-weary, former military ca...   \n",
                        "...                                                 ...   \n",
                        "4804  El Mariachi just wants to play his guitar and ...   \n",
                        "4805  A newlywed couple's honeymoon is upended by th...   \n",
                        "4806  \"Signed, Sealed, Delivered\" introduces a dedic...   \n",
                        "4807  When ambitious New York attorney Sam is sent t...   \n",
                        "4808  Ever since the second grade when he first saw ...   \n",
                        "\n",
                        "                                                 genres  \\\n",
                        "0     [{\"id\": 28, \"name\": \"Action\"}, {\"id\": 12, \"nam...   \n",
                        "1     [{\"id\": 12, \"name\": \"Adventure\"}, {\"id\": 14, \"...   \n",
                        "2     [{\"id\": 28, \"name\": \"Action\"}, {\"id\": 12, \"nam...   \n",
                        "3     [{\"id\": 28, \"name\": \"Action\"}, {\"id\": 80, \"nam...   \n",
                        "4     [{\"id\": 28, \"name\": \"Action\"}, {\"id\": 12, \"nam...   \n",
                        "...                                                 ...   \n",
                        "4804  [{\"id\": 28, \"name\": \"Action\"}, {\"id\": 80, \"nam...   \n",
                        "4805  [{\"id\": 35, \"name\": \"Comedy\"}, {\"id\": 10749, \"...   \n",
                        "4806  [{\"id\": 35, \"name\": \"Comedy\"}, {\"id\": 18, \"nam...   \n",
                        "4807                                                 []   \n",
                        "4808                [{\"id\": 99, \"name\": \"Documentary\"}]   \n",
                        "\n",
                        "                                               keywords  \\\n",
                        "0     [{\"id\": 1463, \"name\": \"culture clash\"}, {\"id\":...   \n",
                        "1     [{\"id\": 270, \"name\": \"ocean\"}, {\"id\": 726, \"na...   \n",
                        "2     [{\"id\": 470, \"name\": \"spy\"}, {\"id\": 818, \"name...   \n",
                        "3     [{\"id\": 849, \"name\": \"dc comics\"}, {\"id\": 853,...   \n",
                        "4     [{\"id\": 818, \"name\": \"based on novel\"}, {\"id\":...   \n",
                        "...                                                 ...   \n",
                        "4804  [{\"id\": 5616, \"name\": \"united states\\u2013mexi...   \n",
                        "4805                                                 []   \n",
                        "4806  [{\"id\": 248, \"name\": \"date\"}, {\"id\": 699, \"nam...   \n",
                        "4807                                                 []   \n",
                        "4808  [{\"id\": 1523, \"name\": \"obsession\"}, {\"id\": 224...   \n",
                        "\n",
                        "                                                   cast  \\\n",
                        "0     [{\"cast_id\": 242, \"character\": \"Jake Sully\", \"...   \n",
                        "1     [{\"cast_id\": 4, \"character\": \"Captain Jack Spa...   \n",
                        "2     [{\"cast_id\": 1, \"character\": \"James Bond\", \"cr...   \n",
                        "3     [{\"cast_id\": 2, \"character\": \"Bruce Wayne / Ba...   \n",
                        "4     [{\"cast_id\": 5, \"character\": \"John Carter\", \"c...   \n",
                        "...                                                 ...   \n",
                        "4804  [{\"cast_id\": 1, \"character\": \"El Mariachi\", \"c...   \n",
                        "4805  [{\"cast_id\": 1, \"character\": \"Buzzy\", \"credit_...   \n",
                        "4806  [{\"cast_id\": 8, \"character\": \"Oliver O\\u2019To...   \n",
                        "4807  [{\"cast_id\": 3, \"character\": \"Sam\", \"credit_id...   \n",
                        "4808  [{\"cast_id\": 3, \"character\": \"Herself\", \"credi...   \n",
                        "\n",
                        "                                                   crew  es_json  \n",
                        "0     [{\"credit_id\": \"52fe48009251416c750aca23\", \"de...     True  \n",
                        "1     [{\"credit_id\": \"52fe4232c3a36847f800b579\", \"de...     True  \n",
                        "2     [{\"credit_id\": \"54805967c3a36829b5002c41\", \"de...     True  \n",
                        "3     [{\"credit_id\": \"52fe4781c3a36847f81398c3\", \"de...     True  \n",
                        "4     [{\"credit_id\": \"52fe479ac3a36847f813eaa3\", \"de...     True  \n",
                        "...                                                 ...      ...  \n",
                        "4804  [{\"credit_id\": \"52fe44eec3a36847f80b280b\", \"de...     True  \n",
                        "4805  [{\"credit_id\": \"52fe487dc3a368484e0fb013\", \"de...     True  \n",
                        "4806  [{\"credit_id\": \"52fe4df3c3a36847f8275ecf\", \"de...     True  \n",
                        "4807  [{\"credit_id\": \"52fe4ad9c3a368484e16a36b\", \"de...     True  \n",
                        "4808  [{\"credit_id\": \"58ce021b9251415a390165d9\", \"de...     True  \n",
                        "\n",
                        "[4809 rows x 8 columns]\n"
                    ]
                }
            ],
            "source": [
                "# Miro el formato de las columnas para saber cuáles tienen formato JSON.\n",
                "\n",
                "def es_json(val):\n",
                "    try:\n",
                "        json.loads(val)\n",
                "        return True\n",
                "    except ValueError:\n",
                "        return False\n",
                "\n",
                "# Aplicar la función a la columna del DataFrame\n",
                "df_mc['es_json'] = df_mc['crew'].apply(es_json)\n",
                "\n",
                "print(df_mc)"
            ]
        },
        {
            "cell_type": "markdown",
            "metadata": {},
            "source": [
                "Las variables JSON son genres, keywords, cast y crew."
            ]
        },
        {
            "cell_type": "code",
            "execution_count": 9,
            "metadata": {},
            "outputs": [],
            "source": [
                "# Selecciono el atributo name de las variables JSON.\n",
                "def extract_names(json_column):\n",
                "    try:\n",
                "        # Convierto el JSON a lista de diccionarios\n",
                "        items = json.loads(json_column)\n",
                "        # Extraigo todos los nombres\n",
                "        return [item['name'] for item in items]\n",
                "    except (TypeError, json.JSONDecodeError):\n",
                "        return []"
            ]
        },
        {
            "cell_type": "code",
            "execution_count": 10,
            "metadata": {},
            "outputs": [],
            "source": [
                "# Selecciono los tres primeros nombres en 'cast'.\n",
                "def extract_top_cast(json_column):\n",
                "    try:\n",
                "        items = json.loads(json_column)\n",
                "        # Extraigo los tres primeros nombres\n",
                "        return [item['name'] for item in items[:3]]  # Limita a los tres primeros\n",
                "    except (TypeError, json.JSONDecodeError):\n",
                "        return []\n"
            ]
        },
        {
            "cell_type": "code",
            "execution_count": 11,
            "metadata": {},
            "outputs": [],
            "source": [
                "# Aplico las funciones a las columnas correspondientes.\n",
                "df_mc['genres'] = df_mc['genres'].apply(extract_names)\n",
                "df_mc['keywords'] = df_mc['keywords'].apply(extract_names)\n",
                "df_mc['cast'] = df_mc['cast'].apply(extract_top_cast)"
            ]
        },
        {
            "cell_type": "code",
            "execution_count": 12,
            "metadata": {},
            "outputs": [
                {
                    "name": "stdout",
                    "output_type": "stream",
                    "text": [
                        "                                          genres  \\\n",
                        "0  [Action, Adventure, Fantasy, Science Fiction]   \n",
                        "1                   [Adventure, Fantasy, Action]   \n",
                        "2                     [Action, Adventure, Crime]   \n",
                        "3               [Action, Crime, Drama, Thriller]   \n",
                        "4           [Action, Adventure, Science Fiction]   \n",
                        "\n",
                        "                                            keywords  \\\n",
                        "0  [culture clash, future, space war, space colon...   \n",
                        "1  [ocean, drug abuse, exotic island, east india ...   \n",
                        "2  [spy, based on novel, secret agent, sequel, mi...   \n",
                        "3  [dc comics, crime fighter, terrorist, secret i...   \n",
                        "4  [based on novel, mars, medallion, space travel...   \n",
                        "\n",
                        "                                               cast  \n",
                        "0  [Sam Worthington, Zoe Saldana, Sigourney Weaver]  \n",
                        "1     [Johnny Depp, Orlando Bloom, Keira Knightley]  \n",
                        "2      [Daniel Craig, Christoph Waltz, Léa Seydoux]  \n",
                        "3      [Christian Bale, Michael Caine, Gary Oldman]  \n",
                        "4    [Taylor Kitsch, Lynn Collins, Samantha Morton]  \n"
                    ]
                }
            ],
            "source": [
                "print(df_mc[['genres', 'keywords', 'cast']].head())"
            ]
        },
        {
            "cell_type": "code",
            "execution_count": 13,
            "metadata": {},
            "outputs": [],
            "source": [
                "# Selecciono el nombre del director de la columna 'crew'\n",
                "def extract_director(json_column):\n",
                "    try:\n",
                "        # Convierto la columna 'crew' en una lista de diccionarios\n",
                "        crew_list = json.loads(json_column)\n",
                "        # Busco la persona cuyo rol es \"Director\"\n",
                "        for person in crew_list:\n",
                "            if person.get('job') == 'Director':\n",
                "                return person.get('name')\n",
                "        return None  # Si no se encuentra un director, devuelve None\n",
                "    except (TypeError, json.JSONDecodeError):\n",
                "        return None"
            ]
        },
        {
            "cell_type": "code",
            "execution_count": 14,
            "metadata": {},
            "outputs": [],
            "source": [
                "# Convierto el 'overview' en una lista de palabras\n",
                "def overview_to_list(text_column):\n",
                "    try:\n",
                "        return text_column.split()  # Convierte la cadena en una lista de palabras\n",
                "    except AttributeError:\n",
                "        return []  # Si hay un error (por ejemplo, si es NaN), devuelve una lista vacía"
            ]
        },
        {
            "cell_type": "code",
            "execution_count": 15,
            "metadata": {},
            "outputs": [],
            "source": [
                "# Aplico las transformaciones a las columnas correspondientes\n",
                "df_mc['crew'] = df_mc['crew'].apply(extract_director)\n",
                "df_mc['overview'] = df_mc['overview'].apply(overview_to_list)"
            ]
        },
        {
            "cell_type": "code",
            "execution_count": 16,
            "metadata": {},
            "outputs": [
                {
                    "name": "stdout",
                    "output_type": "stream",
                    "text": [
                        "                crew                                           overview\n",
                        "0      James Cameron  [In, the, 22nd, century,, a, paraplegic, Marin...\n",
                        "1     Gore Verbinski  [Captain, Barbossa,, long, believed, to, be, d...\n",
                        "2         Sam Mendes  [A, cryptic, message, from, Bond’s, past, send...\n",
                        "3  Christopher Nolan  [Following, the, death, of, District, Attorney...\n",
                        "4     Andrew Stanton  [John, Carter, is, a, war-weary,, former, mili...\n"
                    ]
                }
            ],
            "source": [
                "print(df_mc[['crew', 'overview']].head())"
            ]
        },
        {
            "cell_type": "code",
            "execution_count": 17,
            "metadata": {},
            "outputs": [],
            "source": [
                "# Elimino los espacios entre las palabras de las variables genres, cast, crew y keywords.\n",
                "def quitar_espacios(lista):\n",
                "    try:\n",
                "        # Itero por cada elemento de la lista y elimino los espacios\n",
                "        return [elemento.replace(' ', '') for elemento in lista]\n",
                "    except TypeError:\n",
                "        # En caso de error (si el valor no es lista), devolver el valor original\n",
                "        return lista"
            ]
        },
        {
            "cell_type": "code",
            "execution_count": 18,
            "metadata": {},
            "outputs": [],
            "source": [
                "# Aplico la función a las columnas genres, cast, crew y keywords.\n",
                "df_mc['genres'] = df_mc['genres'].apply(quitar_espacios)\n",
                "df_mc['cast'] = df_mc['cast'].apply(quitar_espacios)\n",
                "df_mc['crew'] = df_mc['crew'].apply(quitar_espacios)\n",
                "df_mc['keywords'] = df_mc['keywords'].apply(quitar_espacios)"
            ]
        },
        {
            "cell_type": "code",
            "execution_count": 19,
            "metadata": {},
            "outputs": [
                {
                    "name": "stdout",
                    "output_type": "stream",
                    "text": [
                        "                                         genres  \\\n",
                        "0  [Action, Adventure, Fantasy, ScienceFiction]   \n",
                        "1                  [Adventure, Fantasy, Action]   \n",
                        "2                    [Action, Adventure, Crime]   \n",
                        "3              [Action, Crime, Drama, Thriller]   \n",
                        "4           [Action, Adventure, ScienceFiction]   \n",
                        "\n",
                        "                                            cast  \\\n",
                        "0  [SamWorthington, ZoeSaldana, SigourneyWeaver]   \n",
                        "1     [JohnnyDepp, OrlandoBloom, KeiraKnightley]   \n",
                        "2      [DanielCraig, ChristophWaltz, LéaSeydoux]   \n",
                        "3      [ChristianBale, MichaelCaine, GaryOldman]   \n",
                        "4    [TaylorKitsch, LynnCollins, SamanthaMorton]   \n",
                        "\n",
                        "                                                crew  \\\n",
                        "0             [J, a, m, e, s, , C, a, m, e, r, o, n]   \n",
                        "1          [G, o, r, e, , V, e, r, b, i, n, s, k, i]   \n",
                        "2                      [S, a, m, , M, e, n, d, e, s]   \n",
                        "3  [C, h, r, i, s, t, o, p, h, e, r, , N, o, l, a...   \n",
                        "4          [A, n, d, r, e, w, , S, t, a, n, t, o, n]   \n",
                        "\n",
                        "                                            keywords  \n",
                        "0  [cultureclash, future, spacewar, spacecolony, ...  \n",
                        "1  [ocean, drugabuse, exoticisland, eastindiatrad...  \n",
                        "2  [spy, basedonnovel, secretagent, sequel, mi6, ...  \n",
                        "3  [dccomics, crimefighter, terrorist, secretiden...  \n",
                        "4  [basedonnovel, mars, medallion, spacetravel, p...  \n"
                    ]
                }
            ],
            "source": [
                "print(df_mc[['genres', 'cast', 'crew', 'keywords']].head())"
            ]
        },
        {
            "cell_type": "code",
            "execution_count": 20,
            "metadata": {},
            "outputs": [],
            "source": [
                "# Combino todas las columnas procesadas en una sola columna llamada tags.\n",
                "def crear_tags(fila):\n",
                "    # Convierto en una cadena vacía si el valor es None o NaN\n",
                "    overview = ' '.join(fila['overview']) if isinstance(fila['overview'], list) else str(fila['overview']) if pd.notnull(fila['overview']) else ''\n",
                "    genres = ' '.join(fila['genres']) if isinstance(fila['genres'], list) else str(fila['genres']) if pd.notnull(fila['genres']) else ''\n",
                "    cast = ' '.join(fila['cast']) if isinstance(fila['cast'], list) else str(fila['cast']) if pd.notnull(fila['cast']) else ''\n",
                "    crew = ' '.join(fila['crew']) if isinstance(fila['crew'], list) else str(fila['crew']) if pd.notnull(fila['crew']) else ''\n",
                "    keywords = ' '.join(fila['keywords']) if isinstance(fila['keywords'], list) else str(fila['keywords']) if pd.notnull(fila['keywords']) else ''\n",
                "    \n",
                "    # Combino todos los elementos en una sola cadena\n",
                "    return overview + ' ' + genres + ' ' + cast + ' ' + crew + ' ' + keywords\n",
                "\n",
                "# Aplico la función a cada fila del DataFrame para crear la columna 'tags'\n",
                "df_mc['tags'] = df_mc.apply(crear_tags, axis=1)"
            ]
        },
        {
            "cell_type": "code",
            "execution_count": 21,
            "metadata": {},
            "outputs": [
                {
                    "name": "stdout",
                    "output_type": "stream",
                    "text": [
                        "                                                tags\n",
                        "0  In the 22nd century, a paraplegic Marine is di...\n",
                        "1  Captain Barbossa, long believed to be dead, ha...\n",
                        "2  A cryptic message from Bond’s past sends him o...\n",
                        "3  Following the death of District Attorney Harve...\n",
                        "4  John Carter is a war-weary, former military ca...\n"
                    ]
                }
            ],
            "source": [
                "print(df_mc[['tags']].head())"
            ]
        },
        {
            "cell_type": "code",
            "execution_count": 22,
            "metadata": {},
            "outputs": [],
            "source": [
                "# Elimino comas y las reemplazo por espacios en blanco (aunque no debería tener comas en este paso)\n",
                "df_mc['tags'] = df_mc['tags'].str.replace(',', ' ')"
            ]
        },
        {
            "cell_type": "code",
            "execution_count": 23,
            "metadata": {},
            "outputs": [
                {
                    "name": "stdout",
                    "output_type": "stream",
                    "text": [
                        "0    In the 22nd century  a paraplegic Marine is di...\n",
                        "1    Captain Barbossa  long believed to be dead  ha...\n",
                        "2    A cryptic message from Bond’s past sends him o...\n",
                        "3    Following the death of District Attorney Harve...\n",
                        "4    John Carter is a war-weary  former military ca...\n",
                        "Name: tags, dtype: object\n"
                    ]
                }
            ],
            "source": [
                "print(df_mc['tags'].head())"
            ]
        },
        {
            "cell_type": "markdown",
            "metadata": {},
            "source": [
                "4. Construir un KNN."
            ]
        },
        {
            "cell_type": "code",
            "execution_count": 25,
            "metadata": {},
            "outputs": [
                {
                    "name": "stdout",
                    "output_type": "stream",
                    "text": [
                        "(4809, 5000)\n"
                    ]
                }
            ],
            "source": [
                "# Vectorizo el texto (para ello voy a usar el vectorizador \"TfidfVectorizer\")\n",
                "\n",
                "# Inicio el vectorizador TF-IDF\n",
                "vectorizer = TfidfVectorizer(max_features=5000)\n",
                "\n",
                "# Vectorizo la columna 'tags'\n",
                "vectors = vectorizer.fit_transform(df_mc['tags']).toarray()\n",
                "\n",
                "# Verifico el tamaño del vector generado\n",
                "print(vectors.shape) "
            ]
        },
        {
            "cell_type": "code",
            "execution_count": 27,
            "metadata": {},
            "outputs": [
                {
                    "name": "stdout",
                    "output_type": "stream",
                    "text": [
                        "(4809, 4809)\n"
                    ]
                }
            ],
            "source": [
                "# Calculo la distancia Coseno (mide la similitud entre dos vectores de características basándose en el ángulo entre ellos).\n",
                "\n",
                "# Calculo la similitud coseno entre todas las películas.\n",
                "similarity = cosine_similarity(vectors)\n",
                "\n",
                "# Verifico la matriz de similitud.\n",
                "print(similarity.shape) "
            ]
        },
        {
            "cell_type": "code",
            "execution_count": 28,
            "metadata": {},
            "outputs": [],
            "source": [
                "# Función para recomendar películas (basada en la distancia de Coseno).\n",
                "def recommend(movie):\n",
                "    # Busco el índice de la película por su título\n",
                "    movie_index = df_mc[df_mc[\"title\"] == movie].index[0]\n",
                "    \n",
                "    # Obtengo las distancias de similitud entre la película dada y el resto\n",
                "    distances = similarity[movie_index]\n",
                "    \n",
                "    # Ordeno las películas por similitud (excluyendo la propia película)\n",
                "    movie_list = sorted(list(enumerate(distances)), reverse=True, key=lambda x: x[1])[1:6]\n",
                "    \n",
                "    # Muestro las 5 películas más similares\n",
                "    print(f\"Películas similares a '{movie}':\")\n",
                "    for i in movie_list:\n",
                "        print(df_mc.iloc[i[0]].title)\n"
            ]
        },
        {
            "cell_type": "code",
            "execution_count": 30,
            "metadata": {},
            "outputs": [
                {
                    "name": "stdout",
                    "output_type": "stream",
                    "text": [
                        "Películas similares a 'Pirates of the Caribbean: At World's End':\n",
                        "Pirates of the Caribbean: Dead Man's Chest\n",
                        "Pirates of the Caribbean: The Curse of the Black Pearl\n",
                        "Pirates of the Caribbean: On Stranger Tides\n",
                        "The Pirates! In an Adventure with Scientists!\n",
                        "Life of Pi\n"
                    ]
                }
            ],
            "source": [
                "# Pruebo la función con un ejemplo\n",
                "recommend(\"Pirates of the Caribbean: At World's End\")\n"
            ]
        }
    ],
    "metadata": {
        "kernelspec": {
            "display_name": "Python 3.8.13 64-bit ('3.8.13')",
            "language": "python",
            "name": "python3"
        },
        "language_info": {
            "codemirror_mode": {
                "name": "ipython",
                "version": 3
            },
            "file_extension": ".py",
            "mimetype": "text/x-python",
            "name": "python",
            "nbconvert_exporter": "python",
            "pygments_lexer": "ipython3",
            "version": "3.10.12"
        },
        "orig_nbformat": 4,
        "vscode": {
            "interpreter": {
                "hash": "110cc1dee26208153f2972f08a2ad52b6a56238dc66d48e87fb757ef2996db56"
            }
        }
    },
    "nbformat": 4,
    "nbformat_minor": 2
}
